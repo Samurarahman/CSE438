{
  "cells": [
    {
      "cell_type": "markdown",
      "metadata": {
        "id": "view-in-github",
        "colab_type": "text"
      },
      "source": [
        "<a href=\"https://colab.research.google.com/github/Samurarahman/CSE438/blob/main/CSE438_A01_.ipynb\" target=\"_parent\"><img src=\"https://colab.research.google.com/assets/colab-badge.svg\" alt=\"Open In Colab\"/></a>"
      ]
    },
    {
      "cell_type": "markdown",
      "source": [
        "###  Mount Google Drive\n",
        "We mount Google Drive to access our input video (`12s.mp4`) and save the output directly to the same folder.\n"
      ],
      "metadata": {
        "id": "lfjtVTG8HeNz"
      }
    },
    {
      "cell_type": "code",
      "source": [
        "#  Mount Google Drive to store output\n",
        "from google.colab import drive\n",
        "drive.mount('/content/drive')\n"
      ],
      "metadata": {
        "colab": {
          "base_uri": "https://localhost:8080/"
        },
        "id": "xm6-qhaBFz9I",
        "outputId": "ef71dd57-42c8-45b0-d595-1fa16c7a1923"
      },
      "execution_count": null,
      "outputs": [
        {
          "output_type": "stream",
          "name": "stdout",
          "text": [
            "Mounted at /content/drive\n"
          ]
        }
      ]
    },
    {
      "cell_type": "markdown",
      "source": [
        "### Install and Import Libraries\n",
        "We install `opencv-python-headless` and import all necessary Python libraries, including OpenCV, NumPy, and Colab utilities like `drive` and `Video`.\n"
      ],
      "metadata": {
        "id": "jfJzpo00Hieh"
      }
    },
    {
      "cell_type": "code",
      "source": [
        "!pip install opencv-python-headless --quiet\n",
        "\n",
        "import cv2\n",
        "import numpy as np\n",
        "import os\n",
        "import shutil\n",
        "from matplotlib import pyplot as plt\n",
        "from IPython.display import Video, display\n"
      ],
      "metadata": {
        "id": "bArYgOk4GMVe"
      },
      "execution_count": null,
      "outputs": []
    },
    {
      "cell_type": "markdown",
      "source": [
        "### Define Video Paths\n",
        "We set the file paths for the input and output videos using the Drive directory. The output will be saved in the same folder as the input video.\n"
      ],
      "metadata": {
        "id": "vDZtjHGdHpAj"
      }
    },
    {
      "cell_type": "code",
      "source": [
        "#  Input video from Drive\n",
        "INPUT_PATH = '/content/drive/MyDrive/cse438/assignment 1/12s.mp4'\n",
        "OUTPUT_PATH = '/content/drive/MyDrive/cse438/assignment 1/output_hist_eq_grid.avi'\n"
      ],
      "metadata": {
        "id": "ekgeZooyGMSb"
      },
      "execution_count": null,
      "outputs": []
    },
    {
      "cell_type": "markdown",
      "source": [
        "###  Initialize Video Capture and Writer\n",
        "We use `cv2.VideoCapture` to read the input video and `cv2.VideoWriter` to write a new video file. The output frame is a 2×2 grid, so its resolution is doubled in both width and height.\n"
      ],
      "metadata": {
        "id": "dMkHeBSGHyvk"
      }
    },
    {
      "cell_type": "code",
      "source": [
        "#  Open video\n",
        "cap = cv2.VideoCapture(INPUT_PATH)\n",
        "fps = cap.get(cv2.CAP_PROP_FPS)\n",
        "width, height = int(cap.get(3)), int(cap.get(4))\n",
        "\n",
        "#  Output writer: double width and height for 2x2 grid\n",
        "out = cv2.VideoWriter(OUTPUT_PATH, cv2.VideoWriter_fourcc(*'XVID'), fps,\n",
        "                      (width * 2, height * 2))\n"
      ],
      "metadata": {
        "id": "NbmenYvAGMPq"
      },
      "execution_count": null,
      "outputs": []
    },
    {
      "cell_type": "markdown",
      "source": [
        "###  Create RGB Histogram Panel\n",
        "This function calculates and draws RGB histograms from any input frame. It uses `cv2.calcHist` to extract histograms for each color channel and draws them using OpenCV lines.\n"
      ],
      "metadata": {
        "id": "7XrY8KcYHv1O"
      }
    },
    {
      "cell_type": "code",
      "source": [
        "# RGB histogram panel generator\n",
        "def make_histogram_panel(bgr_frame, size=(320, 240), bins=64):\n",
        "    panel = np.zeros((size[1], size[0], 3), dtype=np.uint8)\n",
        "    colors = ['b', 'g', 'r']\n",
        "    for i, col in enumerate(colors):\n",
        "        hist = cv2.calcHist([bgr_frame], [i], None, [bins], [0, 256])\n",
        "        hist = cv2.normalize(hist, hist, 0, size[1], cv2.NORM_MINMAX).flatten()\n",
        "        bin_width = int(size[0] / bins)\n",
        "        for x in range(1, bins):\n",
        "            cv2.line(panel,\n",
        "                     (bin_width*(x-1), size[1] - int(hist[x-1])),\n",
        "                     (bin_width*x, size[1] - int(hist[x])),\n",
        "                     (255 if col == 'b' else 0,\n",
        "                      255 if col == 'g' else 0,\n",
        "                      255 if col == 'r' else 0),\n",
        "                     2)\n",
        "    return panel\n"
      ],
      "metadata": {
        "id": "GOBUbgiNGMM7"
      },
      "execution_count": null,
      "outputs": []
    },
    {
      "cell_type": "markdown",
      "source": [
        "###  Process Video Frame-by-Frame\n",
        "For each frame:\n",
        "- We copy the original image.\n",
        "- Convert it to YCrCb color space.\n",
        "- Apply histogram equalisation to the Y (luminance) channel only.\n",
        "- Convert back to BGR.\n",
        "- Create RGB histograms for both original and equalised frames.\n",
        "- Combine all four components into a 2x2 grid.\n",
        "- Write the grid to the output video.\n"
      ],
      "metadata": {
        "id": "GUdWkJSIH34P"
      }
    },
    {
      "cell_type": "code",
      "source": [
        "# Process video\n",
        "frame_count = 0\n",
        "\n",
        "while cap.isOpened():\n",
        "    ret, frame = cap.read()\n",
        "    if not ret:\n",
        "        break\n",
        "\n",
        "    original = frame.copy()\n",
        "\n",
        "    # Equalise luminance in YCrCb\n",
        "    ycrcb = cv2.cvtColor(frame, cv2.COLOR_BGR2YCrCb)\n",
        "    ycrcb[:, :, 0] = cv2.equalizeHist(ycrcb[:, :, 0])\n",
        "    equalised = cv2.cvtColor(ycrcb, cv2.COLOR_YCrCb2BGR)\n",
        "\n",
        "    # Histograms\n",
        "    orig_hist = make_histogram_panel(original, size=(width, height))\n",
        "    eq_hist = make_histogram_panel(equalised, size=(width, height))\n",
        "\n",
        "    # Compose 2x2 grid\n",
        "    top = np.hstack((original, equalised))\n",
        "    bottom = np.hstack((orig_hist, eq_hist))\n",
        "    grid = np.vstack((top, bottom))\n",
        "\n",
        "    out.write(grid)\n",
        "    frame_count += 1\n",
        "\n",
        "cap.release()\n",
        "out.release()\n",
        "print(f\"✅ Done. {frame_count} frames processed and saved to {OUTPUT_PATH}\")\n"
      ],
      "metadata": {
        "colab": {
          "base_uri": "https://localhost:8080/"
        },
        "id": "IDfk0bpcGMGo",
        "outputId": "c9121502-9b83-419d-d61d-668cb404c807"
      },
      "execution_count": null,
      "outputs": [
        {
          "output_type": "stream",
          "name": "stdout",
          "text": [
            "✅ Done. 320 frames processed and saved to /content/drive/MyDrive/cse438/assignment 1/output_hist_eq_grid.avi\n"
          ]
        }
      ]
    },
    {
      "cell_type": "markdown",
      "source": [
        "### Convert to MP4 and Display Output\n",
        "To ensure smooth playback inside Colab, we convert the `.avi` file to `.mp4` using FFmpeg, then embed it using IPython’s Video player.\n"
      ],
      "metadata": {
        "id": "nlxLg-GvH757"
      }
    },
    {
      "cell_type": "code",
      "source": [
        "# Optional: convert to .mp4 for playback in Colab\n",
        "OUTPUT_MP4 = '/content/drive/MyDrive/cse438/assignment 1/output_hist_eq_grid.mp4'\n",
        "!ffmpeg -i \"{OUTPUT_PATH}\" -vcodec libx264 -crf 24 \"{OUTPUT_MP4}\" -y -loglevel quiet\n",
        "\n",
        "# Preview in notebook\n",
        "Video(OUTPUT_MP4, embed=True, width=720)\n"
      ],
      "metadata": {
        "id": "PUPNLaiBGMEI"
      },
      "execution_count": null,
      "outputs": []
    },
    {
      "cell_type": "markdown",
      "source": [
        "### Input Video from Pixabay\n",
        "\n",
        "We use the following free stock video from Pixabay:\n",
        "\n",
        "**URL**: https://pixabay.com/videos/woman-model-dancing-silhouette-vj-185787/\n",
        "\n",
        "**License**: Pixabay Content License — royalty-free for personal and commercial use, no attribution required.\n"
      ],
      "metadata": {
        "id": "2jzR-bclH-e_"
      }
    },
    {
      "cell_type": "markdown",
      "source": [
        "\n",
        "**Drive link**:https://drive.google.com/drive/folders/1YwsiINqqWcjogFZVcTGpO44oe0JPQkEx?usp=sharing"
      ],
      "metadata": {
        "id": "u35J22l4WN24"
      }
    }
  ],
  "metadata": {
    "accelerator": "GPU",
    "colab": {
      "gpuType": "T4",
      "provenance": [],
      "mount_file_id": "1kGMvMFipKTNFQZPbtglkdZUH9-cAsJck",
      "authorship_tag": "ABX9TyMGodVUj/OyvMU0xLSl5XC3",
      "include_colab_link": true
    },
    "kernelspec": {
      "display_name": "Python 3",
      "name": "python3"
    },
    "language_info": {
      "name": "python"
    }
  },
  "nbformat": 4,
  "nbformat_minor": 0
}